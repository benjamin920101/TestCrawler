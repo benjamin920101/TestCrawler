{
 "cells": [
  {
   "cell_type": "code",
   "execution_count": 1,
   "metadata": {},
   "outputs": [],
   "source": [
    "from selenium import webdriver\n",
    "from selenium.webdriver.support.ui import Select\n",
    "from bs4 import BeautifulSoup\n",
    "import time\n",
    "import requests\n",
    "import os\n",
    "from PyPDF2 import PdfFileMerger"
   ]
  },
  {
   "cell_type": "code",
   "execution_count": 2,
   "metadata": {},
   "outputs": [
    {
     "name": "stderr",
     "output_type": "stream",
     "text": [
      "C:\\Users\\Benjamin\\AppData\\Local\\Temp\\ipykernel_3996\\3602761376.py:1: DeprecationWarning: executable_path has been deprecated, please pass in a Service object\n",
      "  browser = webdriver.Chrome('./chromedriver')\n"
     ]
    }
   ],
   "source": [
    "browser = webdriver.Chrome('./chromedriver')"
   ]
  },
  {
   "cell_type": "code",
   "execution_count": 3,
   "metadata": {},
   "outputs": [],
   "source": [
    "browser.get('https://wwwq.moex.gov.tw/exam/wFrmExamQandASearch.aspx')"
   ]
  },
  {
   "cell_type": "code",
   "execution_count": 4,
   "metadata": {},
   "outputs": [
    {
     "name": "stderr",
     "output_type": "stream",
     "text": [
      "C:\\Users\\Benjamin\\AppData\\Local\\Temp\\ipykernel_3996\\2396607755.py:1: DeprecationWarning: find_element_by_* commands are deprecated. Please use find_element() instead\n",
      "  switch = browser.find_element_by_id(\"ctl00_holderContent_ibtnFull\")\n"
     ]
    }
   ],
   "source": [
    "switch = browser.find_element_by_id(\"ctl00_holderContent_ibtnFull\")\n",
    "switch.click()"
   ]
  },
  {
   "cell_type": "code",
   "execution_count": 5,
   "metadata": {},
   "outputs": [
    {
     "name": "stderr",
     "output_type": "stream",
     "text": [
      "C:\\Users\\Benjamin\\AppData\\Local\\Temp\\ipykernel_3996\\812643623.py:1: DeprecationWarning: find_element_by_* commands are deprecated. Please use find_element() instead\n",
      "  select_year = Select(browser.find_element_by_id(\"ctl00_holderContent_wUctlExamYearEnd_ddlExamYear\"))\n"
     ]
    }
   ],
   "source": [
    "select_year = Select(browser.find_element_by_id(\"ctl00_holderContent_wUctlExamYearEnd_ddlExamYear\"))\n",
    "select_year.select_by_value(\"2020\")"
   ]
  },
  {
   "cell_type": "code",
   "execution_count": 6,
   "metadata": {},
   "outputs": [
    {
     "name": "stderr",
     "output_type": "stream",
     "text": [
      "C:\\Users\\Benjamin\\AppData\\Local\\Temp\\ipykernel_3996\\569748057.py:1: DeprecationWarning: find_element_by_* commands are deprecated. Please use find_element() instead\n",
      "  subject = browser.find_element_by_id(\"ctl00_holderContent_txtSubjectName\")\n"
     ]
    }
   ],
   "source": [
    "subject = browser.find_element_by_id(\"ctl00_holderContent_txtCategoryName\")\n",
    "subject.send_keys('藥師')"
   ]
  },
  {
   "cell_type": "code",
   "execution_count": 7,
   "metadata": {},
   "outputs": [
    {
     "name": "stderr",
     "output_type": "stream",
     "text": [
      "C:\\Users\\Benjamin\\AppData\\Local\\Temp\\ipykernel_3996\\78236188.py:1: DeprecationWarning: find_element_by_* commands are deprecated. Please use find_element() instead\n",
      "  subject = browser.find_element_by_id(\"ctl00_holderContent_txtCategoryName\")\n"
     ]
    }
   ],
   "source": [
    "subject = browser.find_element_by_id(\"ctl00_holderContent_txtSubjectName\")\n",
    "subject.send_keys('藥劑')"
   ]
  },
  {
   "cell_type": "code",
   "execution_count": 8,
   "metadata": {},
   "outputs": [
    {
     "name": "stderr",
     "output_type": "stream",
     "text": [
      "C:\\Users\\Benjamin\\AppData\\Local\\Temp\\ipykernel_3996\\3807391917.py:1: DeprecationWarning: find_element_by_* commands are deprecated. Please use find_element() instead\n",
      "  submit = browser.find_element_by_id(\"ctl00_holderContent_btnQuery\")\n"
     ]
    }
   ],
   "source": [
    "submit = browser.find_element_by_id(\"ctl00_holderContent_btnQuery\")\n",
    "submit.click()"
   ]
  },
  {
   "cell_type": "code",
   "execution_count": 9,
   "metadata": {},
   "outputs": [],
   "source": [
    "time.sleep(3)\n",
    "html = browser.page_source\n",
    "soup = BeautifulSoup(html, 'html.parser')\n",
    "elements = soup.find_all(\"a\",class_=\"exam-question-ans\")\n",
    "x=0\n",
    "for element in elements:\n",
    "    x = x+1\n",
    "    resp = requests.get(\"https://wwwq.moex.gov.tw/exam/\"+element.get('href'))\n",
    "    with open(str(x).zfill(3)+'.pdf', 'wb') as f:\n",
    "        f.write(resp.content)"
   ]
  },
  {
   "cell_type": "code",
   "execution_count": null,
   "metadata": {},
   "outputs": [],
   "source": [
    "'''\n",
    "Pdf Merger\n",
    "'''\n",
    "x = [a for a in os.listdir() if a.endswith(\".pdf\")]\n",
    "\n",
    "merger = PdfFileMerger(strict=False)\n",
    "\n",
    "for pdf in x:\n",
    "    merger.append(open(pdf, 'rb'))\n",
    "\n",
    "with open(\"result.pdf\", \"wb\") as fout:\n",
    "    merger.write(fout)"
   ]
  },
  {
   "cell_type": "code",
   "execution_count": null,
   "metadata": {},
   "outputs": [],
   "source": []
  }
 ],
 "metadata": {
  "kernelspec": {
   "display_name": "Python 3",
   "language": "python",
   "name": "python3"
  },
  "language_info": {
   "codemirror_mode": {
    "name": "ipython",
    "version": 3
   },
   "file_extension": ".py",
   "mimetype": "text/x-python",
   "name": "python",
   "nbconvert_exporter": "python",
   "pygments_lexer": "ipython3",
   "version": "3.9.10"
  }
 },
 "nbformat": 4,
 "nbformat_minor": 4
}
