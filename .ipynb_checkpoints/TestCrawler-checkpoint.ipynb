{
 "cells": [
  {
   "cell_type": "code",
   "execution_count": 1,
   "metadata": {},
   "outputs": [],
   "source": [
    "from selenium import webdriver\n",
    "from selenium.webdriver.support.ui import Select\n",
    "from bs4 import BeautifulSoup\n",
    "import time\n",
    "import requests\n",
    "import os\n",
    "from PyPDF2 import PdfFileMerger"
   ]
  },
  {
   "cell_type": "code",
   "execution_count": 2,
   "metadata": {},
   "outputs": [],
   "source": [
    "browser = webdriver.Chrome('./chromedriver')"
   ]
  },
  {
   "cell_type": "code",
   "execution_count": 3,
   "metadata": {},
   "outputs": [],
   "source": [
    "browser.get('https://wwwq.moex.gov.tw/exam/wFrmExamQandASearch.aspx')"
   ]
  },
  {
   "cell_type": "code",
   "execution_count": 4,
   "metadata": {},
   "outputs": [],
   "source": [
    "switch = browser.find_element_by_id(\"ctl00_holderContent_ibtnFull\")\n",
    "switch.click()"
   ]
  },
  {
   "cell_type": "code",
   "execution_count": 5,
   "metadata": {},
   "outputs": [],
   "source": [
    "select_year = Select(browser.find_element_by_id(\"ctl00_holderContent_wUctlExamYearEnd_ddlExamYear\"))\n",
    "select_year.select_by_value(\"1992\")"
   ]
  },
  {
   "cell_type": "code",
   "execution_count": 6,
   "metadata": {},
   "outputs": [],
   "source": [
    "subject = browser.find_element_by_id(\"ctl00_holderContent_txtExamSetName\")\n",
    "subject.send_keys('司法')"
   ]
  },
  {
   "cell_type": "code",
   "execution_count": 7,
   "metadata": {},
   "outputs": [],
   "source": [
    "subject = browser.find_element_by_id(\"ctl00_holderContent_txtSubjectName\")\n",
    "subject.send_keys('行政法')"
   ]
  },
  {
   "cell_type": "code",
   "execution_count": 8,
   "metadata": {},
   "outputs": [],
   "source": [
    "submit = browser.find_element_by_id(\"ctl00_holderContent_btnQuery\")\n",
    "submit.click()"
   ]
  },
  {
   "cell_type": "code",
   "execution_count": 9,
   "metadata": {},
   "outputs": [],
   "source": [
    "time.sleep(3)\n",
    "html = browser.page_source\n",
    "soup = BeautifulSoup(html, 'html.parser')\n",
    "elements = soup.find_all(\"a\",class_=\"exam-question-ans\")\n",
    "x=0\n",
    "for element in elements:\n",
    "    x = x+1\n",
    "    resp = requests.get(\"https://wwwq.moex.gov.tw/exam/\"+element.get('href'))\n",
    "    with open(str(x).zfill(3)+'.pdf', 'wb') as f:\n",
    "        f.write(resp.content)"
   ]
  },
  {
   "cell_type": "code",
   "execution_count": 10,
   "metadata": {},
   "outputs": [
    {
     "name": "stderr",
     "output_type": "stream",
     "text": [
      "PdfReadWarning: Illegal character in Name Object [generic.py:489]\n"
     ]
    }
   ],
   "source": [
    "'''\n",
    "Pdf Merger\n",
    "'''\n",
    "x = [a for a in os.listdir() if a.endswith(\".pdf\")]\n",
    "\n",
    "merger = PdfFileMerger(strict=False)\n",
    "\n",
    "for pdf in x:\n",
    "    merger.append(open(pdf, 'rb'))\n",
    "\n",
    "with open(\"result.pdf\", \"wb\") as fout:\n",
    "    merger.write(fout)"
   ]
  },
  {
   "cell_type": "code",
   "execution_count": null,
   "metadata": {},
   "outputs": [],
   "source": []
  }
 ],
 "metadata": {
  "kernelspec": {
   "display_name": "Python 3",
   "language": "python",
   "name": "python3"
  },
  "language_info": {
   "codemirror_mode": {
    "name": "ipython",
    "version": 3
   },
   "file_extension": ".py",
   "mimetype": "text/x-python",
   "name": "python",
   "nbconvert_exporter": "python",
   "pygments_lexer": "ipython3",
   "version": "3.8.5"
  }
 },
 "nbformat": 4,
 "nbformat_minor": 4
}
